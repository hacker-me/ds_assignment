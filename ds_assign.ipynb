{
 "cells": [
  {
   "cell_type": "code",
   "execution_count": 3,
   "id": "f9fd8616",
   "metadata": {},
   "outputs": [],
   "source": [
    "import pandas as pd"
   ]
  },
  {
   "cell_type": "code",
   "execution_count": 4,
   "id": "30a862a7",
   "metadata": {},
   "outputs": [
    {
     "data": {
      "text/html": [
       "<div>\n",
       "<style scoped>\n",
       "    .dataframe tbody tr th:only-of-type {\n",
       "        vertical-align: middle;\n",
       "    }\n",
       "\n",
       "    .dataframe tbody tr th {\n",
       "        vertical-align: top;\n",
       "    }\n",
       "\n",
       "    .dataframe thead th {\n",
       "        text-align: right;\n",
       "    }\n",
       "</style>\n",
       "<table border=\"1\" class=\"dataframe\">\n",
       "  <thead>\n",
       "    <tr style=\"text-align: right;\">\n",
       "      <th></th>\n",
       "      <th>Customer_ID</th>\n",
       "      <th>Var1</th>\n",
       "      <th>Var2</th>\n",
       "      <th>Group</th>\n",
       "      <th>Category</th>\n",
       "      <th>Rating</th>\n",
       "      <th>Purchased_ABC_product</th>\n",
       "    </tr>\n",
       "  </thead>\n",
       "  <tbody>\n",
       "    <tr>\n",
       "      <th>0</th>\n",
       "      <td>5518</td>\n",
       "      <td>41.534</td>\n",
       "      <td>12.123</td>\n",
       "      <td>G1</td>\n",
       "      <td>C1</td>\n",
       "      <td>Bronze</td>\n",
       "      <td>0</td>\n",
       "    </tr>\n",
       "    <tr>\n",
       "      <th>1</th>\n",
       "      <td>40515</td>\n",
       "      <td>9.445</td>\n",
       "      <td>0.256</td>\n",
       "      <td>G1</td>\n",
       "      <td>C1</td>\n",
       "      <td>Bronze</td>\n",
       "      <td>0</td>\n",
       "    </tr>\n",
       "    <tr>\n",
       "      <th>2</th>\n",
       "      <td>52697</td>\n",
       "      <td>37.599</td>\n",
       "      <td>3.199</td>\n",
       "      <td>G1</td>\n",
       "      <td>C2</td>\n",
       "      <td>Gold</td>\n",
       "      <td>0</td>\n",
       "    </tr>\n",
       "    <tr>\n",
       "      <th>3</th>\n",
       "      <td>68202</td>\n",
       "      <td>81.514</td>\n",
       "      <td>1.645</td>\n",
       "      <td>G1</td>\n",
       "      <td>C1</td>\n",
       "      <td>Silver</td>\n",
       "      <td>0</td>\n",
       "    </tr>\n",
       "    <tr>\n",
       "      <th>4</th>\n",
       "      <td>130003</td>\n",
       "      <td>46.805</td>\n",
       "      <td>1.706</td>\n",
       "      <td>G1</td>\n",
       "      <td>C1</td>\n",
       "      <td>Silver</td>\n",
       "      <td>0</td>\n",
       "    </tr>\n",
       "  </tbody>\n",
       "</table>\n",
       "</div>"
      ],
      "text/plain": [
       "   Customer_ID    Var1    Var2 Group Category  Rating  Purchased_ABC_product\n",
       "0         5518  41.534  12.123    G1       C1  Bronze                      0\n",
       "1        40515   9.445   0.256    G1       C1  Bronze                      0\n",
       "2        52697  37.599   3.199    G1       C2    Gold                      0\n",
       "3        68202  81.514   1.645    G1       C1  Silver                      0\n",
       "4       130003  46.805   1.706    G1       C1  Silver                      0"
      ]
     },
     "execution_count": 4,
     "metadata": {},
     "output_type": "execute_result"
    }
   ],
   "source": [
    "df_accusaga = pd.read_csv(\"DS_dataset.csv\")\n",
    "df_accusaga.head()"
   ]
  },
  {
   "cell_type": "code",
   "execution_count": 5,
   "id": "56b9e7a2",
   "metadata": {},
   "outputs": [
    {
     "data": {
      "text/html": [
       "<div>\n",
       "<style scoped>\n",
       "    .dataframe tbody tr th:only-of-type {\n",
       "        vertical-align: middle;\n",
       "    }\n",
       "\n",
       "    .dataframe tbody tr th {\n",
       "        vertical-align: top;\n",
       "    }\n",
       "\n",
       "    .dataframe thead th {\n",
       "        text-align: right;\n",
       "    }\n",
       "</style>\n",
       "<table border=\"1\" class=\"dataframe\">\n",
       "  <thead>\n",
       "    <tr style=\"text-align: right;\">\n",
       "      <th></th>\n",
       "      <th>Customer_ID</th>\n",
       "      <th>Var1</th>\n",
       "      <th>Var2</th>\n",
       "      <th>Group</th>\n",
       "      <th>Category</th>\n",
       "      <th>Rating</th>\n",
       "      <th>Purchased_ABC_product</th>\n",
       "    </tr>\n",
       "  </thead>\n",
       "  <tbody>\n",
       "    <tr>\n",
       "      <th>0</th>\n",
       "      <td>5518</td>\n",
       "      <td>41.534</td>\n",
       "      <td>12.123</td>\n",
       "      <td>G1</td>\n",
       "      <td>C1</td>\n",
       "      <td>1</td>\n",
       "      <td>0</td>\n",
       "    </tr>\n",
       "    <tr>\n",
       "      <th>1</th>\n",
       "      <td>40515</td>\n",
       "      <td>9.445</td>\n",
       "      <td>0.256</td>\n",
       "      <td>G1</td>\n",
       "      <td>C1</td>\n",
       "      <td>1</td>\n",
       "      <td>0</td>\n",
       "    </tr>\n",
       "    <tr>\n",
       "      <th>2</th>\n",
       "      <td>52697</td>\n",
       "      <td>37.599</td>\n",
       "      <td>3.199</td>\n",
       "      <td>G1</td>\n",
       "      <td>C2</td>\n",
       "      <td>3</td>\n",
       "      <td>0</td>\n",
       "    </tr>\n",
       "    <tr>\n",
       "      <th>3</th>\n",
       "      <td>68202</td>\n",
       "      <td>81.514</td>\n",
       "      <td>1.645</td>\n",
       "      <td>G1</td>\n",
       "      <td>C1</td>\n",
       "      <td>2</td>\n",
       "      <td>0</td>\n",
       "    </tr>\n",
       "    <tr>\n",
       "      <th>4</th>\n",
       "      <td>130003</td>\n",
       "      <td>46.805</td>\n",
       "      <td>1.706</td>\n",
       "      <td>G1</td>\n",
       "      <td>C1</td>\n",
       "      <td>2</td>\n",
       "      <td>0</td>\n",
       "    </tr>\n",
       "  </tbody>\n",
       "</table>\n",
       "</div>"
      ],
      "text/plain": [
       "   Customer_ID    Var1    Var2 Group Category Rating  Purchased_ABC_product\n",
       "0         5518  41.534  12.123    G1       C1      1                      0\n",
       "1        40515   9.445   0.256    G1       C1      1                      0\n",
       "2        52697  37.599   3.199    G1       C2      3                      0\n",
       "3        68202  81.514   1.645    G1       C1      2                      0\n",
       "4       130003  46.805   1.706    G1       C1      2                      0"
      ]
     },
     "execution_count": 5,
     "metadata": {},
     "output_type": "execute_result"
    }
   ],
   "source": [
    "df_accusaga['Rating'] = df_accusaga['Rating'].str.replace('Bronze','1')\n",
    "df_accusaga['Rating'] = df_accusaga['Rating'].str.replace('Silver','2')\n",
    "df_accusaga['Rating'] = df_accusaga['Rating'].str.replace('Gold','3')\n",
    "df_accusaga.head()"
   ]
  },
  {
   "cell_type": "code",
   "execution_count": 6,
   "id": "5073c0d9",
   "metadata": {},
   "outputs": [
    {
     "data": {
      "text/html": [
       "<div>\n",
       "<style scoped>\n",
       "    .dataframe tbody tr th:only-of-type {\n",
       "        vertical-align: middle;\n",
       "    }\n",
       "\n",
       "    .dataframe tbody tr th {\n",
       "        vertical-align: top;\n",
       "    }\n",
       "\n",
       "    .dataframe thead th {\n",
       "        text-align: right;\n",
       "    }\n",
       "</style>\n",
       "<table border=\"1\" class=\"dataframe\">\n",
       "  <thead>\n",
       "    <tr style=\"text-align: right;\">\n",
       "      <th></th>\n",
       "      <th>Customer_ID</th>\n",
       "      <th>Var1</th>\n",
       "      <th>Var2</th>\n",
       "      <th>Group</th>\n",
       "      <th>Category</th>\n",
       "      <th>Rating</th>\n",
       "      <th>Purchased_ABC_product</th>\n",
       "    </tr>\n",
       "  </thead>\n",
       "  <tbody>\n",
       "    <tr>\n",
       "      <th>0</th>\n",
       "      <td>5518</td>\n",
       "      <td>41.534</td>\n",
       "      <td>12.123</td>\n",
       "      <td>1</td>\n",
       "      <td>C1</td>\n",
       "      <td>1</td>\n",
       "      <td>0</td>\n",
       "    </tr>\n",
       "    <tr>\n",
       "      <th>1</th>\n",
       "      <td>40515</td>\n",
       "      <td>9.445</td>\n",
       "      <td>0.256</td>\n",
       "      <td>1</td>\n",
       "      <td>C1</td>\n",
       "      <td>1</td>\n",
       "      <td>0</td>\n",
       "    </tr>\n",
       "    <tr>\n",
       "      <th>2</th>\n",
       "      <td>52697</td>\n",
       "      <td>37.599</td>\n",
       "      <td>3.199</td>\n",
       "      <td>1</td>\n",
       "      <td>C2</td>\n",
       "      <td>3</td>\n",
       "      <td>0</td>\n",
       "    </tr>\n",
       "    <tr>\n",
       "      <th>3</th>\n",
       "      <td>68202</td>\n",
       "      <td>81.514</td>\n",
       "      <td>1.645</td>\n",
       "      <td>1</td>\n",
       "      <td>C1</td>\n",
       "      <td>2</td>\n",
       "      <td>0</td>\n",
       "    </tr>\n",
       "    <tr>\n",
       "      <th>4</th>\n",
       "      <td>130003</td>\n",
       "      <td>46.805</td>\n",
       "      <td>1.706</td>\n",
       "      <td>1</td>\n",
       "      <td>C1</td>\n",
       "      <td>2</td>\n",
       "      <td>0</td>\n",
       "    </tr>\n",
       "  </tbody>\n",
       "</table>\n",
       "</div>"
      ],
      "text/plain": [
       "   Customer_ID    Var1    Var2 Group Category Rating  Purchased_ABC_product\n",
       "0         5518  41.534  12.123     1       C1      1                      0\n",
       "1        40515   9.445   0.256     1       C1      1                      0\n",
       "2        52697  37.599   3.199     1       C2      3                      0\n",
       "3        68202  81.514   1.645     1       C1      2                      0\n",
       "4       130003  46.805   1.706     1       C1      2                      0"
      ]
     },
     "execution_count": 6,
     "metadata": {},
     "output_type": "execute_result"
    }
   ],
   "source": [
    "df_accusaga['Group'] = df_accusaga['Group'].str.replace('G1','1')\n",
    "df_accusaga['Group'] = df_accusaga['Group'].str.replace('G2','2')\n",
    "df_accusaga['Group'] = df_accusaga['Group'].str.replace('G3','3')\n",
    "df_accusaga['Group'] = df_accusaga['Group'].str.replace('G4','4')\n",
    "df_accusaga['Group'] = df_accusaga['Group'].str.replace('G5','5')\n",
    "df_accusaga['Group'] = df_accusaga['Group'].str.replace('G6','6')\n",
    "df_accusaga['Group'] = df_accusaga['Group'].str.replace('G7','7')\n",
    "df_accusaga['Group'] = df_accusaga['Group'].str.replace('G8','8')\n",
    "df_accusaga.head()"
   ]
  },
  {
   "cell_type": "code",
   "execution_count": 7,
   "id": "1d8af848",
   "metadata": {},
   "outputs": [
    {
     "data": {
      "text/html": [
       "<div>\n",
       "<style scoped>\n",
       "    .dataframe tbody tr th:only-of-type {\n",
       "        vertical-align: middle;\n",
       "    }\n",
       "\n",
       "    .dataframe tbody tr th {\n",
       "        vertical-align: top;\n",
       "    }\n",
       "\n",
       "    .dataframe thead th {\n",
       "        text-align: right;\n",
       "    }\n",
       "</style>\n",
       "<table border=\"1\" class=\"dataframe\">\n",
       "  <thead>\n",
       "    <tr style=\"text-align: right;\">\n",
       "      <th></th>\n",
       "      <th>Customer_ID</th>\n",
       "      <th>Var1</th>\n",
       "      <th>Var2</th>\n",
       "      <th>Group</th>\n",
       "      <th>Category</th>\n",
       "      <th>Rating</th>\n",
       "      <th>Purchased_ABC_product</th>\n",
       "    </tr>\n",
       "  </thead>\n",
       "  <tbody>\n",
       "    <tr>\n",
       "      <th>0</th>\n",
       "      <td>5518</td>\n",
       "      <td>41.534</td>\n",
       "      <td>12.123</td>\n",
       "      <td>1</td>\n",
       "      <td>1</td>\n",
       "      <td>1</td>\n",
       "      <td>0</td>\n",
       "    </tr>\n",
       "    <tr>\n",
       "      <th>1</th>\n",
       "      <td>40515</td>\n",
       "      <td>9.445</td>\n",
       "      <td>0.256</td>\n",
       "      <td>1</td>\n",
       "      <td>1</td>\n",
       "      <td>1</td>\n",
       "      <td>0</td>\n",
       "    </tr>\n",
       "    <tr>\n",
       "      <th>2</th>\n",
       "      <td>52697</td>\n",
       "      <td>37.599</td>\n",
       "      <td>3.199</td>\n",
       "      <td>1</td>\n",
       "      <td>2</td>\n",
       "      <td>3</td>\n",
       "      <td>0</td>\n",
       "    </tr>\n",
       "    <tr>\n",
       "      <th>3</th>\n",
       "      <td>68202</td>\n",
       "      <td>81.514</td>\n",
       "      <td>1.645</td>\n",
       "      <td>1</td>\n",
       "      <td>1</td>\n",
       "      <td>2</td>\n",
       "      <td>0</td>\n",
       "    </tr>\n",
       "    <tr>\n",
       "      <th>4</th>\n",
       "      <td>130003</td>\n",
       "      <td>46.805</td>\n",
       "      <td>1.706</td>\n",
       "      <td>1</td>\n",
       "      <td>1</td>\n",
       "      <td>2</td>\n",
       "      <td>0</td>\n",
       "    </tr>\n",
       "  </tbody>\n",
       "</table>\n",
       "</div>"
      ],
      "text/plain": [
       "   Customer_ID    Var1    Var2 Group Category Rating  Purchased_ABC_product\n",
       "0         5518  41.534  12.123     1        1      1                      0\n",
       "1        40515   9.445   0.256     1        1      1                      0\n",
       "2        52697  37.599   3.199     1        2      3                      0\n",
       "3        68202  81.514   1.645     1        1      2                      0\n",
       "4       130003  46.805   1.706     1        1      2                      0"
      ]
     },
     "execution_count": 7,
     "metadata": {},
     "output_type": "execute_result"
    }
   ],
   "source": [
    "df_accusaga['Category'] = df_accusaga['Category'].str.replace('C1','1')\n",
    "df_accusaga['Category'] = df_accusaga['Category'].str.replace('C2','2')\n",
    "df_accusaga['Category'] = df_accusaga['Category'].str.replace('C3','3')\n",
    "df_accusaga['Category'] = df_accusaga['Category'].str.replace('C4','4')\n",
    "df_accusaga['Category'] = df_accusaga['Category'].str.replace('C5','5')\n",
    "df_accusaga.head()"
   ]
  },
  {
   "cell_type": "code",
   "execution_count": 8,
   "id": "651aac15",
   "metadata": {},
   "outputs": [
    {
     "data": {
      "text/plain": [
       "Group\n",
       "1    19365\n",
       "2      298\n",
       "3     1762\n",
       "4      494\n",
       "5     8558\n",
       "6      312\n",
       "7       21\n",
       "8       19\n",
       "dtype: int64"
      ]
     },
     "execution_count": 8,
     "metadata": {},
     "output_type": "execute_result"
    }
   ],
   "source": [
    "df_group = df_accusaga.groupby('Group').size()\n",
    "df_group"
   ]
  },
  {
   "cell_type": "code",
   "execution_count": 9,
   "id": "e7301af2",
   "metadata": {},
   "outputs": [
    {
     "data": {
      "text/plain": [
       "Category\n",
       "1    14934\n",
       "2     4031\n",
       "3     6707\n",
       "4     2164\n",
       "5     2993\n",
       "dtype: int64"
      ]
     },
     "execution_count": 9,
     "metadata": {},
     "output_type": "execute_result"
    }
   ],
   "source": [
    "df_category = df_accusaga.groupby('Category').size()\n",
    "df_category"
   ]
  },
  {
   "cell_type": "code",
   "execution_count": 10,
   "id": "de1b1070",
   "metadata": {},
   "outputs": [
    {
     "data": {
      "text/plain": [
       "Rating\n",
       "1    15127\n",
       "2    10171\n",
       "3     5531\n",
       "dtype: int64"
      ]
     },
     "execution_count": 10,
     "metadata": {},
     "output_type": "execute_result"
    }
   ],
   "source": [
    "df_rating = df_accusaga.groupby('Rating').size()\n",
    "df_rating"
   ]
  },
  {
   "cell_type": "code",
   "execution_count": 11,
   "id": "74f8647e",
   "metadata": {},
   "outputs": [
    {
     "data": {
      "text/html": [
       "<div>\n",
       "<style scoped>\n",
       "    .dataframe tbody tr th:only-of-type {\n",
       "        vertical-align: middle;\n",
       "    }\n",
       "\n",
       "    .dataframe tbody tr th {\n",
       "        vertical-align: top;\n",
       "    }\n",
       "\n",
       "    .dataframe thead th {\n",
       "        text-align: right;\n",
       "    }\n",
       "</style>\n",
       "<table border=\"1\" class=\"dataframe\">\n",
       "  <thead>\n",
       "    <tr style=\"text-align: right;\">\n",
       "      <th></th>\n",
       "      <th>Customer_ID</th>\n",
       "      <th>Var1</th>\n",
       "      <th>Var2</th>\n",
       "      <th>Purchased_ABC_product</th>\n",
       "    </tr>\n",
       "  </thead>\n",
       "  <tbody>\n",
       "    <tr>\n",
       "      <th>Customer_ID</th>\n",
       "      <td>1.000000</td>\n",
       "      <td>0.002707</td>\n",
       "      <td>0.049997</td>\n",
       "      <td>0.037436</td>\n",
       "    </tr>\n",
       "    <tr>\n",
       "      <th>Var1</th>\n",
       "      <td>0.002707</td>\n",
       "      <td>1.000000</td>\n",
       "      <td>0.878002</td>\n",
       "      <td>0.316515</td>\n",
       "    </tr>\n",
       "    <tr>\n",
       "      <th>Var2</th>\n",
       "      <td>0.049997</td>\n",
       "      <td>0.878002</td>\n",
       "      <td>1.000000</td>\n",
       "      <td>0.350131</td>\n",
       "    </tr>\n",
       "    <tr>\n",
       "      <th>Purchased_ABC_product</th>\n",
       "      <td>0.037436</td>\n",
       "      <td>0.316515</td>\n",
       "      <td>0.350131</td>\n",
       "      <td>1.000000</td>\n",
       "    </tr>\n",
       "  </tbody>\n",
       "</table>\n",
       "</div>"
      ],
      "text/plain": [
       "                       Customer_ID      Var1      Var2  Purchased_ABC_product\n",
       "Customer_ID               1.000000  0.002707  0.049997               0.037436\n",
       "Var1                      0.002707  1.000000  0.878002               0.316515\n",
       "Var2                      0.049997  0.878002  1.000000               0.350131\n",
       "Purchased_ABC_product     0.037436  0.316515  0.350131               1.000000"
      ]
     },
     "execution_count": 11,
     "metadata": {},
     "output_type": "execute_result"
    }
   ],
   "source": [
    "df_accusaga.corr()"
   ]
  },
  {
   "cell_type": "code",
   "execution_count": 12,
   "id": "a83da8ee",
   "metadata": {},
   "outputs": [
    {
     "data": {
      "text/plain": [
       "(30829, 7)"
      ]
     },
     "execution_count": 12,
     "metadata": {},
     "output_type": "execute_result"
    }
   ],
   "source": [
    "df_accusaga.shape"
   ]
  },
  {
   "cell_type": "code",
   "execution_count": 13,
   "id": "6ce09fa7",
   "metadata": {},
   "outputs": [
    {
     "data": {
      "text/html": [
       "<div>\n",
       "<style scoped>\n",
       "    .dataframe tbody tr th:only-of-type {\n",
       "        vertical-align: middle;\n",
       "    }\n",
       "\n",
       "    .dataframe tbody tr th {\n",
       "        vertical-align: top;\n",
       "    }\n",
       "\n",
       "    .dataframe thead th {\n",
       "        text-align: right;\n",
       "    }\n",
       "</style>\n",
       "<table border=\"1\" class=\"dataframe\">\n",
       "  <thead>\n",
       "    <tr style=\"text-align: right;\">\n",
       "      <th></th>\n",
       "      <th>Customer_ID</th>\n",
       "      <th>Var1</th>\n",
       "      <th>Var2</th>\n",
       "      <th>Purchased_ABC_product</th>\n",
       "    </tr>\n",
       "  </thead>\n",
       "  <tbody>\n",
       "    <tr>\n",
       "      <th>count</th>\n",
       "      <td>3.082900e+04</td>\n",
       "      <td>30829.000000</td>\n",
       "      <td>30829.000000</td>\n",
       "      <td>30829.000000</td>\n",
       "    </tr>\n",
       "    <tr>\n",
       "      <th>mean</th>\n",
       "      <td>3.057482e+06</td>\n",
       "      <td>64.868318</td>\n",
       "      <td>4.994489</td>\n",
       "      <td>0.503552</td>\n",
       "    </tr>\n",
       "    <tr>\n",
       "      <th>std</th>\n",
       "      <td>2.210470e+06</td>\n",
       "      <td>114.373345</td>\n",
       "      <td>9.533546</td>\n",
       "      <td>0.499995</td>\n",
       "    </tr>\n",
       "    <tr>\n",
       "      <th>min</th>\n",
       "      <td>6.470000e+02</td>\n",
       "      <td>0.251000</td>\n",
       "      <td>0.000000</td>\n",
       "      <td>0.000000</td>\n",
       "    </tr>\n",
       "    <tr>\n",
       "      <th>25%</th>\n",
       "      <td>1.501804e+06</td>\n",
       "      <td>13.256000</td>\n",
       "      <td>0.668000</td>\n",
       "      <td>0.000000</td>\n",
       "    </tr>\n",
       "    <tr>\n",
       "      <th>50%</th>\n",
       "      <td>2.192582e+06</td>\n",
       "      <td>31.860000</td>\n",
       "      <td>2.189000</td>\n",
       "      <td>1.000000</td>\n",
       "    </tr>\n",
       "    <tr>\n",
       "      <th>75%</th>\n",
       "      <td>4.732076e+06</td>\n",
       "      <td>68.702000</td>\n",
       "      <td>5.482000</td>\n",
       "      <td>1.000000</td>\n",
       "    </tr>\n",
       "    <tr>\n",
       "      <th>max</th>\n",
       "      <td>7.285914e+06</td>\n",
       "      <td>2909.776000</td>\n",
       "      <td>317.380000</td>\n",
       "      <td>1.000000</td>\n",
       "    </tr>\n",
       "  </tbody>\n",
       "</table>\n",
       "</div>"
      ],
      "text/plain": [
       "        Customer_ID          Var1          Var2  Purchased_ABC_product\n",
       "count  3.082900e+04  30829.000000  30829.000000           30829.000000\n",
       "mean   3.057482e+06     64.868318      4.994489               0.503552\n",
       "std    2.210470e+06    114.373345      9.533546               0.499995\n",
       "min    6.470000e+02      0.251000      0.000000               0.000000\n",
       "25%    1.501804e+06     13.256000      0.668000               0.000000\n",
       "50%    2.192582e+06     31.860000      2.189000               1.000000\n",
       "75%    4.732076e+06     68.702000      5.482000               1.000000\n",
       "max    7.285914e+06   2909.776000    317.380000               1.000000"
      ]
     },
     "execution_count": 13,
     "metadata": {},
     "output_type": "execute_result"
    }
   ],
   "source": [
    "df_accusaga.describe()"
   ]
  },
  {
   "cell_type": "code",
   "execution_count": 14,
   "id": "615f6f99",
   "metadata": {},
   "outputs": [
    {
     "name": "stdout",
     "output_type": "stream",
     "text": [
      "<class 'pandas.core.frame.DataFrame'>\n",
      "RangeIndex: 30829 entries, 0 to 30828\n",
      "Data columns (total 7 columns):\n",
      " #   Column                 Non-Null Count  Dtype  \n",
      "---  ------                 --------------  -----  \n",
      " 0   Customer_ID            30829 non-null  int64  \n",
      " 1   Var1                   30829 non-null  float64\n",
      " 2   Var2                   30829 non-null  float64\n",
      " 3   Group                  30829 non-null  object \n",
      " 4   Category               30829 non-null  object \n",
      " 5   Rating                 30829 non-null  object \n",
      " 6   Purchased_ABC_product  30829 non-null  int64  \n",
      "dtypes: float64(2), int64(2), object(3)\n",
      "memory usage: 1.6+ MB\n"
     ]
    }
   ],
   "source": [
    "df_accusaga.info()"
   ]
  },
  {
   "cell_type": "code",
   "execution_count": 13,
   "id": "8ec96e47",
   "metadata": {},
   "outputs": [],
   "source": [
    "df_accusaga.to_csv('Accusaga.csv')"
   ]
  },
  {
   "cell_type": "code",
   "execution_count": 15,
   "id": "4ab7374f",
   "metadata": {},
   "outputs": [
    {
     "data": {
      "text/html": [
       "<div>\n",
       "<style scoped>\n",
       "    .dataframe tbody tr th:only-of-type {\n",
       "        vertical-align: middle;\n",
       "    }\n",
       "\n",
       "    .dataframe tbody tr th {\n",
       "        vertical-align: top;\n",
       "    }\n",
       "\n",
       "    .dataframe thead th {\n",
       "        text-align: right;\n",
       "    }\n",
       "</style>\n",
       "<table border=\"1\" class=\"dataframe\">\n",
       "  <thead>\n",
       "    <tr style=\"text-align: right;\">\n",
       "      <th></th>\n",
       "      <th>Unnamed: 0</th>\n",
       "      <th>Customer_ID</th>\n",
       "      <th>Var1</th>\n",
       "      <th>Var2</th>\n",
       "      <th>Group</th>\n",
       "      <th>Category</th>\n",
       "      <th>Rating</th>\n",
       "      <th>Purchased_ABC_product</th>\n",
       "    </tr>\n",
       "  </thead>\n",
       "  <tbody>\n",
       "    <tr>\n",
       "      <th>0</th>\n",
       "      <td>0</td>\n",
       "      <td>5518</td>\n",
       "      <td>41.534</td>\n",
       "      <td>12.123</td>\n",
       "      <td>1</td>\n",
       "      <td>1</td>\n",
       "      <td>1</td>\n",
       "      <td>0</td>\n",
       "    </tr>\n",
       "    <tr>\n",
       "      <th>1</th>\n",
       "      <td>1</td>\n",
       "      <td>40515</td>\n",
       "      <td>9.445</td>\n",
       "      <td>0.256</td>\n",
       "      <td>1</td>\n",
       "      <td>1</td>\n",
       "      <td>1</td>\n",
       "      <td>0</td>\n",
       "    </tr>\n",
       "    <tr>\n",
       "      <th>2</th>\n",
       "      <td>2</td>\n",
       "      <td>52697</td>\n",
       "      <td>37.599</td>\n",
       "      <td>3.199</td>\n",
       "      <td>1</td>\n",
       "      <td>2</td>\n",
       "      <td>3</td>\n",
       "      <td>0</td>\n",
       "    </tr>\n",
       "    <tr>\n",
       "      <th>3</th>\n",
       "      <td>3</td>\n",
       "      <td>68202</td>\n",
       "      <td>81.514</td>\n",
       "      <td>1.645</td>\n",
       "      <td>1</td>\n",
       "      <td>1</td>\n",
       "      <td>2</td>\n",
       "      <td>0</td>\n",
       "    </tr>\n",
       "    <tr>\n",
       "      <th>4</th>\n",
       "      <td>4</td>\n",
       "      <td>130003</td>\n",
       "      <td>46.805</td>\n",
       "      <td>1.706</td>\n",
       "      <td>1</td>\n",
       "      <td>1</td>\n",
       "      <td>2</td>\n",
       "      <td>0</td>\n",
       "    </tr>\n",
       "  </tbody>\n",
       "</table>\n",
       "</div>"
      ],
      "text/plain": [
       "   Unnamed: 0  Customer_ID    Var1    Var2  Group  Category  Rating  \\\n",
       "0           0         5518  41.534  12.123      1         1       1   \n",
       "1           1        40515   9.445   0.256      1         1       1   \n",
       "2           2        52697  37.599   3.199      1         2       3   \n",
       "3           3        68202  81.514   1.645      1         1       2   \n",
       "4           4       130003  46.805   1.706      1         1       2   \n",
       "\n",
       "   Purchased_ABC_product  \n",
       "0                      0  \n",
       "1                      0  \n",
       "2                      0  \n",
       "3                      0  \n",
       "4                      0  "
      ]
     },
     "execution_count": 15,
     "metadata": {},
     "output_type": "execute_result"
    }
   ],
   "source": [
    "df_a = pd.read_csv('Accusaga.csv')\n",
    "df_a.head()"
   ]
  },
  {
   "cell_type": "code",
   "execution_count": 16,
   "id": "a12887aa",
   "metadata": {},
   "outputs": [
    {
     "data": {
      "text/html": [
       "<div>\n",
       "<style scoped>\n",
       "    .dataframe tbody tr th:only-of-type {\n",
       "        vertical-align: middle;\n",
       "    }\n",
       "\n",
       "    .dataframe tbody tr th {\n",
       "        vertical-align: top;\n",
       "    }\n",
       "\n",
       "    .dataframe thead th {\n",
       "        text-align: right;\n",
       "    }\n",
       "</style>\n",
       "<table border=\"1\" class=\"dataframe\">\n",
       "  <thead>\n",
       "    <tr style=\"text-align: right;\">\n",
       "      <th></th>\n",
       "      <th>Unnamed: 0</th>\n",
       "      <th>Customer_ID</th>\n",
       "      <th>Var1</th>\n",
       "      <th>Var2</th>\n",
       "      <th>Group</th>\n",
       "      <th>Category</th>\n",
       "      <th>Rating</th>\n",
       "      <th>Purchased_ABC_product</th>\n",
       "    </tr>\n",
       "  </thead>\n",
       "  <tbody>\n",
       "    <tr>\n",
       "      <th>Unnamed: 0</th>\n",
       "      <td>1.000000</td>\n",
       "      <td>0.006336</td>\n",
       "      <td>0.004723</td>\n",
       "      <td>0.001494</td>\n",
       "      <td>0.001582</td>\n",
       "      <td>-0.006123</td>\n",
       "      <td>0.000799</td>\n",
       "      <td>0.005719</td>\n",
       "    </tr>\n",
       "    <tr>\n",
       "      <th>Customer_ID</th>\n",
       "      <td>0.006336</td>\n",
       "      <td>1.000000</td>\n",
       "      <td>0.002707</td>\n",
       "      <td>0.049997</td>\n",
       "      <td>0.463134</td>\n",
       "      <td>0.055511</td>\n",
       "      <td>-0.123655</td>\n",
       "      <td>0.037436</td>\n",
       "    </tr>\n",
       "    <tr>\n",
       "      <th>Var1</th>\n",
       "      <td>0.004723</td>\n",
       "      <td>0.002707</td>\n",
       "      <td>1.000000</td>\n",
       "      <td>0.878002</td>\n",
       "      <td>0.052692</td>\n",
       "      <td>0.211860</td>\n",
       "      <td>0.544078</td>\n",
       "      <td>0.316515</td>\n",
       "    </tr>\n",
       "    <tr>\n",
       "      <th>Var2</th>\n",
       "      <td>0.001494</td>\n",
       "      <td>0.049997</td>\n",
       "      <td>0.878002</td>\n",
       "      <td>1.000000</td>\n",
       "      <td>0.065125</td>\n",
       "      <td>0.236430</td>\n",
       "      <td>0.484838</td>\n",
       "      <td>0.350131</td>\n",
       "    </tr>\n",
       "    <tr>\n",
       "      <th>Group</th>\n",
       "      <td>0.001582</td>\n",
       "      <td>0.463134</td>\n",
       "      <td>0.052692</td>\n",
       "      <td>0.065125</td>\n",
       "      <td>1.000000</td>\n",
       "      <td>0.080002</td>\n",
       "      <td>-0.127669</td>\n",
       "      <td>0.037089</td>\n",
       "    </tr>\n",
       "    <tr>\n",
       "      <th>Category</th>\n",
       "      <td>-0.006123</td>\n",
       "      <td>0.055511</td>\n",
       "      <td>0.211860</td>\n",
       "      <td>0.236430</td>\n",
       "      <td>0.080002</td>\n",
       "      <td>1.000000</td>\n",
       "      <td>0.264635</td>\n",
       "      <td>0.202750</td>\n",
       "    </tr>\n",
       "    <tr>\n",
       "      <th>Rating</th>\n",
       "      <td>0.000799</td>\n",
       "      <td>-0.123655</td>\n",
       "      <td>0.544078</td>\n",
       "      <td>0.484838</td>\n",
       "      <td>-0.127669</td>\n",
       "      <td>0.264635</td>\n",
       "      <td>1.000000</td>\n",
       "      <td>0.387582</td>\n",
       "    </tr>\n",
       "    <tr>\n",
       "      <th>Purchased_ABC_product</th>\n",
       "      <td>0.005719</td>\n",
       "      <td>0.037436</td>\n",
       "      <td>0.316515</td>\n",
       "      <td>0.350131</td>\n",
       "      <td>0.037089</td>\n",
       "      <td>0.202750</td>\n",
       "      <td>0.387582</td>\n",
       "      <td>1.000000</td>\n",
       "    </tr>\n",
       "  </tbody>\n",
       "</table>\n",
       "</div>"
      ],
      "text/plain": [
       "                       Unnamed: 0  Customer_ID      Var1      Var2     Group  \\\n",
       "Unnamed: 0               1.000000     0.006336  0.004723  0.001494  0.001582   \n",
       "Customer_ID              0.006336     1.000000  0.002707  0.049997  0.463134   \n",
       "Var1                     0.004723     0.002707  1.000000  0.878002  0.052692   \n",
       "Var2                     0.001494     0.049997  0.878002  1.000000  0.065125   \n",
       "Group                    0.001582     0.463134  0.052692  0.065125  1.000000   \n",
       "Category                -0.006123     0.055511  0.211860  0.236430  0.080002   \n",
       "Rating                   0.000799    -0.123655  0.544078  0.484838 -0.127669   \n",
       "Purchased_ABC_product    0.005719     0.037436  0.316515  0.350131  0.037089   \n",
       "\n",
       "                       Category    Rating  Purchased_ABC_product  \n",
       "Unnamed: 0            -0.006123  0.000799               0.005719  \n",
       "Customer_ID            0.055511 -0.123655               0.037436  \n",
       "Var1                   0.211860  0.544078               0.316515  \n",
       "Var2                   0.236430  0.484838               0.350131  \n",
       "Group                  0.080002 -0.127669               0.037089  \n",
       "Category               1.000000  0.264635               0.202750  \n",
       "Rating                 0.264635  1.000000               0.387582  \n",
       "Purchased_ABC_product  0.202750  0.387582               1.000000  "
      ]
     },
     "execution_count": 16,
     "metadata": {},
     "output_type": "execute_result"
    }
   ],
   "source": [
    "df_a.corr()"
   ]
  },
  {
   "cell_type": "code",
   "execution_count": 17,
   "id": "03a42e45",
   "metadata": {},
   "outputs": [],
   "source": [
    "import matplotlib.pyplot as plt"
   ]
  },
  {
   "cell_type": "code",
   "execution_count": 18,
   "id": "dc5eba1d",
   "metadata": {},
   "outputs": [
    {
     "data": {
      "text/plain": [
       "Category\n",
       "1    14934\n",
       "2     4031\n",
       "3     6707\n",
       "4     2164\n",
       "5     2993\n",
       "dtype: int64"
      ]
     },
     "execution_count": 18,
     "metadata": {},
     "output_type": "execute_result"
    }
   ],
   "source": [
    "df_a.groupby('Category').size()"
   ]
  },
  {
   "cell_type": "code",
   "execution_count": 19,
   "id": "1f1ac9cf",
   "metadata": {},
   "outputs": [
    {
     "data": {
      "text/plain": [
       "Group\n",
       "1    19365\n",
       "2      298\n",
       "3     1762\n",
       "4      494\n",
       "5     8558\n",
       "6      312\n",
       "7       21\n",
       "8       19\n",
       "dtype: int64"
      ]
     },
     "execution_count": 19,
     "metadata": {},
     "output_type": "execute_result"
    }
   ],
   "source": [
    "df_a.groupby('Group').size()"
   ]
  },
  {
   "cell_type": "code",
   "execution_count": 20,
   "id": "c0c27814",
   "metadata": {},
   "outputs": [
    {
     "data": {
      "text/plain": [
       "Group  Purchased_ABC_product\n",
       "1      0                        10135\n",
       "       1                         9230\n",
       "2      0                          200\n",
       "       1                           98\n",
       "3      0                          282\n",
       "       1                         1480\n",
       "4      0                          266\n",
       "       1                          228\n",
       "5      0                         4222\n",
       "       1                         4336\n",
       "6      0                          177\n",
       "       1                          135\n",
       "7      0                            9\n",
       "       1                           12\n",
       "8      0                           14\n",
       "       1                            5\n",
       "dtype: int64"
      ]
     },
     "execution_count": 20,
     "metadata": {},
     "output_type": "execute_result"
    }
   ],
   "source": [
    "gr = df_a.groupby(['Group','Purchased_ABC_product']).size()\n",
    "gr"
   ]
  },
  {
   "cell_type": "code",
   "execution_count": 21,
   "id": "70f3693b",
   "metadata": {},
   "outputs": [
    {
     "data": {
      "image/png": "[encoded data removed]",
      "text/plain": [
       "<Figure size 432x288 with 1 Axes>"
      ]
     },
     "metadata": {
      "needs_background": "light"
     },
     "output_type": "display_data"
    }
   ],
   "source": [
    "gr.plot(kind='bar')\n",
    "plt.show()"
   ]
  },
  {
   "cell_type": "markdown",
   "id": "3e1ec74f",
   "metadata": {},
   "source": [
    "# We can say that group one members are showing less interest in our products out of 19365 members 9230 members purchased our products. we can reach them out to increase our sales. Which was 42% are showing interest in product rest 52% are not showing much interest so we can reach them and increase our sales. "
   ]
  },
  {
   "cell_type": "code",
   "execution_count": 22,
   "id": "9cb86d6c",
   "metadata": {},
   "outputs": [],
   "source": [
    "X_features=df_a[['Var1','Var2','Group','Category','Rating']]\n",
    "Y_target = df_a['Purchased_ABC_product']"
   ]
  },
  {
   "cell_type": "code",
   "execution_count": 23,
   "id": "18770a70",
   "metadata": {},
   "outputs": [],
   "source": [
    "from sklearn.model_selection import train_test_split\n",
    "X_train,X_test,Y_train,Y_test = train_test_split(X_features,Y_target)"
   ]
  },
  {
   "cell_type": "code",
   "execution_count": 24,
   "id": "92cc80c6",
   "metadata": {},
   "outputs": [
    {
     "data": {
      "text/plain": [
       "((23121, 5), (7708, 5), (23121,), (7708,))"
      ]
     },
     "execution_count": 24,
     "metadata": {},
     "output_type": "execute_result"
    }
   ],
   "source": [
    "X_train.shape,X_test.shape,Y_train.shape,Y_test.shape"
   ]
  },
  {
   "cell_type": "code",
   "execution_count": 25,
   "id": "7c7c545c",
   "metadata": {},
   "outputs": [
    {
     "data": {
      "text/plain": [
       "array([1, 1, 0, ..., 0, 1, 1], dtype=int64)"
      ]
     },
     "execution_count": 25,
     "metadata": {},
     "output_type": "execute_result"
    }
   ],
   "source": [
    "from sklearn.tree import DecisionTreeClassifier\n",
    "dec=DecisionTreeClassifier()\n",
    "dec.fit(X_train,Y_train)\n",
    "y_pred=dec.predict(X_test)\n",
    "y_pred"
   ]
  },
  {
   "cell_type": "code",
   "execution_count": 42,
   "id": "7d9344c7",
   "metadata": {},
   "outputs": [
    {
     "name": "stdout",
     "output_type": "stream",
     "text": [
      "Confusion Matrix: [[2734 1150]\n",
      " [1121 2703]]\n"
     ]
    }
   ],
   "source": [
    "from sklearn.metrics import confusion_matrix\n",
    "cm=confusion_matrix(Y_test,y_pred)\n",
    "print('Confusion Matrix:',cm)"
   ]
  },
  {
   "cell_type": "code",
   "execution_count": 29,
   "id": "8bcc9d7f",
   "metadata": {},
   "outputs": [
    {
     "name": "stdout",
     "output_type": "stream",
     "text": [
      "Accuracy Score: 70.53710430721328\n"
     ]
    }
   ],
   "source": [
    "from sklearn.metrics import accuracy_score\n",
    "acc=accuracy_score(Y_test, y_pred)\n",
    "print(\"Accuracy Score:\",acc*100)"
   ]
  },
  {
   "cell_type": "code",
   "execution_count": 37,
   "id": "812f984e",
   "metadata": {},
   "outputs": [
    {
     "name": "stdout",
     "output_type": "stream",
     "text": [
      "Classifiaction Report:               precision    recall  f1-score   support\n",
      "\n",
      "           0       0.71      0.70      0.71      3884\n",
      "           1       0.70      0.71      0.70      3824\n",
      "\n",
      "    accuracy                           0.71      7708\n",
      "   macro avg       0.71      0.71      0.71      7708\n",
      "weighted avg       0.71      0.71      0.71      7708\n",
      "\n"
     ]
    }
   ],
   "source": [
    "from sklearn.metrics import classification_report\n",
    "cr=classification_report(Y_test,y_pred)\n",
    "print(\"Classifiaction Report:\", cr)"
   ]
  },
  {
   "cell_type": "code",
   "execution_count": 38,
   "id": "26ba419f",
   "metadata": {},
   "outputs": [
    {
     "name": "stdout",
     "output_type": "stream",
     "text": [
      "ROC_AUC_SCORE: 0.7053824778406422\n"
     ]
    }
   ],
   "source": [
    "from sklearn.metrics import roc_auc_score\n",
    "roc=roc_auc_score(Y_test, y_pred)\n",
    "print(\"ROC_AUC_SCORE:\",roc)"
   ]
  },
  {
   "cell_type": "code",
   "execution_count": 40,
   "id": "9291cf59",
   "metadata": {},
   "outputs": [
    {
     "data": {
      "image/png": "[encoded data removed]",
      "text/plain": [
       "<Figure size 576x252 with 1 Axes>"
      ]
     },
     "metadata": {
      "needs_background": "light"
     },
     "output_type": "display_data"
    }
   ],
   "source": [
    "import shap\n",
    "shap_values = shap.TreeExplainer(dec).shap_values(X_train)\n",
    "shap.summary_plot(shap_values, X_train, plot_type=\"bar\")"
   ]
  },
  {
   "cell_type": "code",
   "execution_count": null,
   "id": "497ea0bf",
   "metadata": {},
   "outputs": [],
   "source": []
  }
 ],
 "metadata": {
  "kernelspec": {
   "display_name": "Python 3",
   "language": "python",
   "name": "python3"
  },
  "language_info": {
   "codemirror_mode": {
    "name": "ipython",
    "version": 3
   },
   "file_extension": ".py",
   "mimetype": "text/x-python",
   "name": "python",
   "nbconvert_exporter": "python",
   "pygments_lexer": "ipython3",
   "version": "3.8.8"
  }
 },
 "nbformat": 4,
 "nbformat_minor": 5
}
